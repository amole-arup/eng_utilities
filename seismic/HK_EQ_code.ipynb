{
 "cells": [
  {
   "cell_type": "markdown",
   "metadata": {},
   "source": [
    "# HK Seismic Code"
   ]
  },
  {
   "cell_type": "code",
   "execution_count": 1,
   "metadata": {},
   "outputs": [
    {
     "data": {
      "text/plain": [
       "{'Concrete': {'q': 3, 'gamma_ov': 1.5},\n",
       " 'Composite': {'q': 4, 'gamma_ov': 1.5},\n",
       " 'Steel_General': {'q': 4, 'gamma_ov': 1.25},\n",
       " 'SCBF_DV': {'q': 2, 'gamma_ov': 1.25},\n",
       " 'SCBF_K': {'q': 1.5, 'gamma_ov': 1.25}}"
      ]
     },
     "execution_count": 1,
     "metadata": {},
     "output_type": "execute_result"
    }
   ],
   "source": [
    "gamma_ov_dict = {'Concrete':{'q':3, 'gamma_ov':1.5}, 'Composite':{'q':4, 'gamma_ov':1.5}, \n",
    "    'Steel_General':{'q':4, 'gamma_ov':1.25}, 'SCBF_DV':{'q':2, 'gamma_ov':1.25}, 'SCBF_K':{'q':1.5, 'gamma_ov':1.25}}\n",
    "\n",
    "gamma_ov_dict"
   ]
  },
  {
   "cell_type": "code",
   "execution_count": null,
   "metadata": {},
   "outputs": [],
   "source": []
  }
 ],
 "metadata": {
  "kernelspec": {
   "display_name": "Python (py38)",
   "language": "python",
   "name": "py38"
  },
  "language_info": {
   "codemirror_mode": {
    "name": "ipython",
    "version": 3
   },
   "file_extension": ".py",
   "mimetype": "text/x-python",
   "name": "python",
   "nbconvert_exporter": "python",
   "pygments_lexer": "ipython3",
   "version": "3.8.3"
  }
 },
 "nbformat": 4,
 "nbformat_minor": 4
}
