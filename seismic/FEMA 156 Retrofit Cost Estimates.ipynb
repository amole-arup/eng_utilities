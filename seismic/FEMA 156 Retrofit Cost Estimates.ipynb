{
 "cells": [
  {
   "cell_type": "markdown",
   "metadata": {},
   "source": [
    "# FEMA 156 Retrofit Cost Estimates"
   ]
  },
  {
   "cell_type": "markdown",
   "metadata": {},
   "source": [
    "## Building Types"
   ]
  },
  {
   "cell_type": "code",
   "execution_count": 29,
   "metadata": {
    "collapsed": true,
    "jupyter": {
     "outputs_hidden": true
    }
   },
   "outputs": [],
   "source": [
    "class Building_Type(object):\n",
    "    pass\n",
    "\n",
    "Building_Types = [URM,W1,W2,PC1,RM1,C1,C3,S1,S2,S3,S5,C2,PC2,RM2,S4]\n",
    "\n",
    "URM = Building_Type()\n",
    "URM.Name = 'URM'\n",
    "URM.Description = 'Unreinforced Masonry'\n",
    "URM.Building_Group = 1\n",
    "W1 = Building_Type()\n",
    "W1.Name = 'W1'\n",
    "W1.Description = 'Wood Light Frame'\n",
    "W1.Building_Group = 2\n",
    "W2 = Building_Type()\n",
    "W2.Name = 'W2'\n",
    "W2.Description = 'Wood (Commercial or Industrial)'\n",
    "W2.Building_Group = 2\n",
    "PC1 = Building_Type()\n",
    "PC1.Name = 'PC1'\n",
    "PC1.Description = 'Precast Concrete Tilt Up Walls'\n",
    "PC1.Building_Group = 3\n",
    "RM1 = Building_Type()\n",
    "RM1.Name = 'RM1'\n",
    "RM1.Description = 'Reinforced Masory with Metal or Wood Diaphragm'\n",
    "RM1.Building_Group = 3\n",
    "C1 = Building_Type()\n",
    "C1.Name = 'C1'\n",
    "C1.Description = 'Concrete Moment Frame'\n",
    "C1.Building_Group = 4\n",
    "C3 = Building_Type()\n",
    "C3.Name = 'C3'\n",
    "C3.Description = 'Concrete Frame with Infill Walls'\n",
    "C3.Building_Group = 4\n",
    "S1 = Building_Type()\n",
    "S1.Name = 'S1'\n",
    "S1.Description = 'Steel Moment Frame'\n",
    "S1.Building_Group = 5\n",
    "S2 = Building_Type()\n",
    "S2.Name = 'S2'\n",
    "S2.Description = 'Steel Brace Frame'\n",
    "S2.Building_Group = 6\n",
    "S3 = Building_Type()\n",
    "S3.Name = 'S3'\n",
    "S3.Description = 'Steel Light Frame'\n",
    "S3.Building_Group = 6\n",
    "S5 = Building_Type()\n",
    "S5.Name = 'S5'\n",
    "S5.Description = 'Steel Frame with Infill Walls'\n",
    "S5.Building_Group = 7\n",
    "C2 = Building_Type()\n",
    "C2.Name = 'C2'\n",
    "C2.Description = 'Concrete Shear Wall'\n",
    "C2.Building_Group = 8\n",
    "PC2 = Building_Type()\n",
    "PC2.Name = 'PC2'\n",
    "PC2.Description = 'Precast Concrete Frame wit Concrete Shear Walls'\n",
    "PC2.Building_Group = 8\n",
    "RM2 = Building_Type()\n",
    "RM2.Name = 'RM2'\n",
    "RM2.Description = 'Reinforced Masonry with Precast Concrete Diaphragm'\n",
    "RM2.Building_Group = 8\n",
    "S4 = Building_Type()\n",
    "S4.Name = 'S4'\n",
    "S4.Description = 'Steel Frame with Concrete Walls'\n",
    "S4.Building_Group = 8"
   ]
  },
  {
   "cell_type": "markdown",
   "metadata": {},
   "source": [
    "## Seismicity Levels"
   ]
  },
  {
   "cell_type": "code",
   "execution_count": 31,
   "metadata": {
    "collapsed": true,
    "jupyter": {
     "outputs_hidden": true
    }
   },
   "outputs": [],
   "source": [
    "class Seismicity_Level(object):\n",
    "    pass\n",
    "\n",
    "Level_1 = Seismicity_Level()\n",
    "Level_1.Name = 'Level_1'\n",
    "Level_1.Hazard = 'Low'\n",
    "Level_1.Acceleration = 0.05\n",
    "Level_1.NEHRP_Map = 1\n",
    "Level_2 = Seismicity_Level()\n",
    "Level_2.Name = 'Level_2'\n",
    "Level_2.Hazard = 'Low'\n",
    "Level_2.Acceleration = 0.05\n",
    "Level_2.NEHRP_Map = 2\n",
    "Level_3 = Seismicity_Level()\n",
    "Level_3.Name = 'Level_3'\n",
    "Level_3.Hazard = 'Moderate'\n",
    "Level_3.Acceleration = 0.1\n",
    "Level_3.NEHRP_Map = 3\n",
    "Level_4 = Seismicity_Level()\n",
    "Level_4.Name = 'Level_4'\n",
    "Level_4.Hazard = 'Moderate'\n",
    "Level_4.Acceleration = 0.15\n",
    "Level_4.NEHRP_Map = 4\n",
    "Level_5 = Seismicity_Level()\n",
    "Level_5.Name = 'Level_5'\n",
    "Level_5.Hazard = 'High'\n",
    "Level_5.Acceleration = 0.2\n",
    "Level_5.NEHRP_Map = 5\n",
    "Level_6 = Seismicity_Level()\n",
    "Level_6.Name = 'Level_6'\n",
    "Level_6.Hazard = 'High'\n",
    "Level_6.Acceleration = 0.3\n",
    "Level_6.NEHRP_Map = 6\n",
    "Level_7 = Seismicity_Level()\n",
    "Level_7.Name = 'Level_7'\n",
    "Level_7.Hazard = 'Very High'\n",
    "Level_7.Acceleration = 0.4\n",
    "Level_7.NEHRP_Map = 7\n",
    "\n",
    "Seismicity_Levels = (\"Low\", \"Moderate\", \"High\", \"Very High\")"
   ]
  },
  {
   "cell_type": "markdown",
   "metadata": {},
   "source": [
    "## Building Size Categories"
   ]
  },
  {
   "cell_type": "code",
   "execution_count": 32,
   "metadata": {},
   "outputs": [
    {
     "name": "stdout",
     "output_type": "stream",
     "text": [
      "Medium\n"
     ]
    }
   ],
   "source": [
    "def Size_Category(floor_area_sft):\n",
    "    if floor_area_sft >= 100000:\n",
    "        return \"Very Large\"\n",
    "    elif floor_area_sft >= 50000:\n",
    "        return \"Large\"\n",
    "    elif floor_area_sft >= 10000:\n",
    "        return \"Medium\"\n",
    "    else:\n",
    "        return \"Small\"\n",
    "Size_Categories = (\"Small\", \"Medium\", \"Large\", \"Very Large\")\n",
    "\n",
    "# Check\n",
    "print(Size_Category(22000))"
   ]
  },
  {
   "cell_type": "markdown",
   "metadata": {},
   "source": [
    "## Typical Structural Costs"
   ]
  },
  {
   "cell_type": "code",
   "execution_count": 33,
   "metadata": {
    "collapsed": true,
    "jupyter": {
     "outputs_hidden": true
    }
   },
   "outputs": [],
   "source": [
    "# Cost per square foot is assumed to be as follows - US$16.50 /sf\n",
    "Cost_per_sf = 16.5 # "
   ]
  },
  {
   "cell_type": "code",
   "execution_count": 35,
   "metadata": {},
   "outputs": [
    {
     "name": "stdout",
     "output_type": "stream",
     "text": [
      "25.04\n",
      "10.06\n"
     ]
    }
   ],
   "source": [
    "# Typical Structural Costs for \"Low\" \"Moderate\", \"High\", and \"Very High\" Seismicity, & \"Small\", \"Medium\", \"Large\", \"Very Large\"\n",
    "URM.Struct_Costs = ((9.42,9.33,8.86,7.46),(10.81,10.7,10.17,8.56),(13.74,13.61,12.93,10.89),(18.22,18.04,17.14,14.43))\n",
    "W1.Struct_Costs = ((7.27,7.65,9.6,12.3),(8.34,8.78,11.01,14.11),(10.61,11.16,14,17.94),(14.07,14.79,18.56,23.78))\n",
    "W2.Struct_Costs = ((7.27,7.65,9.6,12.3),(8.34,8.78,11.01,14.11),(10.61,11.16,14,17.94),(14.07,14.79,18.56,23.78))\n",
    "PC1.Struct_Costs = ((9.6,9.15,7.87,4.87),(11.09,10.5,9.03,5.59),(14.1,13.35,11.48,7.11),(18.69,17.7,15.52,9.43))\n",
    "RM1.Struct_Costs = ((9.6,9.15,7.87,4.87),(11.09,10.5,9.03,5.59),(14.1,13.35,11.48,7.11),(18.69,17.7,15.52,9.43))\n",
    "C1.Struct_Costs = ((13.31,12.95,12.33,10.26),(15.28,14.86,14.15,11.77),(19.42,18.89,18,14.97),(25.75,25.04,23.86,19.84))\n",
    "C3.Struct_Costs = ((13.31,12.95,12.33,10.26),(15.28,14.86,14.15,11.77),(19.42,18.89,18,14.97),(25.75,25.04,23.86,19.84))\n",
    "S1.Struct_Costs = ((13.35,13.11,12.54,9.55),(15.31,15.05,14.39,10.96),(19.47,19.14,18.3,13.93),(25.82,25.37,24.26,18.47))\n",
    "S2.Struct_Costs = ((5.2,4.94,3.97,2.25),(5.97,5.67,4.55,2.58),(7.59,7.21,5.79,3.28),(10.07,9.56,7.68,4.35))\n",
    "S3.Struct_Costs = ((5.2,4.94,3.97,2.25),(5.97,5.67,4.55,2.58),(7.59,7.21,5.79,3.28),(10.07,9.56,7.68,4.35))\n",
    "S5.Struct_Costs = ((15.23,15.09,14.5,12.74),(17.48,17.31,16.64,14.62),(22.22,22.01,21.16,18.59),(29.47,29.18,28.05,24.65))\n",
    "C2.Struct_Costs = ((11.72,11.4,10.77,8.76),(13.45,13.09,12.36,10.06),(17.1,16.64,15.71,12.79),(22.67,22.06,20.83,16.95))\n",
    "PC2.Struct_Costs = ((11.72,11.4,10.77,8.76),(13.45,13.09,12.36,10.06),(17.1,16.64,15.71,12.79),(22.67,22.06,20.83,16.95))\n",
    "RM2.Struct_Costs = ((11.72,11.4,10.77,8.76),(13.45,13.09,12.36,10.06),(17.1,16.64,15.71,12.79),(22.67,22.06,20.83,16.95))\n",
    "S4.Struct_Costs = ((11.72,11.4,10.77,8.76),(13.45,13.09,12.36,10.06),(17.1,16.64,15.71,12.79),(22.67,22.06,20.83,16.95))\n",
    "\n",
    "def C_1(Building, Seismicity_Level, Area_Category):\n",
    "    \"\"\"\n",
    "    Building_Types taken from [URM,W1,W2,PC1,RM1,C1,C3,S1,S2,S3,S5,C2,PC2,RM2,S4]\n",
    "    Seismicity_Level taken from (\"Low\", \"Moderate\", \"High\", \"Very High\")\n",
    "    Area_Category taken from (\"Small\", \"Medium\", \"Large\", \"Very Large\")\n",
    "    e.g. C_1(URM,\"Moderate\",\"Large\") - note the lack of quotes round building type\n",
    "    \"\"\"\n",
    "    i = Seismicity_Levels.index(Seismicity_Level)\n",
    "    j = Size_Categories.index(Area_Category)\n",
    "    return Building.Struct_Costs[i][j]\n",
    "\n",
    "# Test\n",
    "print(C_1(C1,\"Very High\", \"Medium\")) # 25.04\n",
    "print(C_1(C2,\"Moderate\", \"Very Large\")) # 10.06"
   ]
  },
  {
   "cell_type": "markdown",
   "metadata": {},
   "source": [
    "## Occupancy Class\n",
    "- A - Assembly\n",
    "- C - Commercial / Office\n",
    "- F - Factory /Industrial\n",
    "- I - Institutional / Educational\n",
    "- M - Mall / Retail\n",
    "- P - Parking\n",
    "- R - Residential"
   ]
  },
  {
   "cell_type": "markdown",
   "metadata": {},
   "source": [
    "## Area Adjustment Tables"
   ]
  },
  {
   "cell_type": "code",
   "execution_count": 36,
   "metadata": {},
   "outputs": [
    {
     "name": "stdout",
     "output_type": "stream",
     "text": [
      "0.99\n",
      "Medium\n",
      "1.12\n"
     ]
    }
   ],
   "source": [
    "# Table 4.3.3 Area Adjustment Factor (Building Group and Area Categories)\n",
    "C_2_Table = (\n",
    "    (1.01,0.97,1.13,1.09,1.16,1.18,1.04,1.11),\n",
    "    (1,1.02,1.07,1.06,1.14,1.12,1.03,1.08),\n",
    "    (0.95,1.28,0.92,1.01,1.09,0.9,0.99,1.02),\n",
    "    (0.8,1.64,0.57,0.84,0.83,0.51,0.87,0.83))\n",
    "\n",
    "def C_2(Building_Group, Area_Category):\n",
    "    i = Building_Group - 1\n",
    "    j = Size_Categories.index(Area_Category)\n",
    "    return C_2_Table[j][i]\n",
    "\n",
    "print(C_2(7,\"Large\"))  # 0.99\n",
    "print(Size_Category(22000))  # \"Medium\"\n",
    "print(C_2(6,Size_Category(22000)))  #  1.12"
   ]
  },
  {
   "cell_type": "markdown",
   "metadata": {},
   "source": [
    "## Seismic Risk Tables"
   ]
  },
  {
   "cell_type": "code",
   "execution_count": 37,
   "metadata": {},
   "outputs": [
    {
     "name": "stdout",
     "output_type": "stream",
     "text": [
      "('Low', 'Moderate', 'High', 'Very High')\n",
      "0.7\n",
      "1.4\n",
      "0.71\n"
     ]
    }
   ],
   "source": [
    "Performance_Objectives = (\"Life Safety\", \"Damage Control\", \"Immediate Occupancy\")\n",
    "\n",
    "C_3_Table = (\n",
    "    (0.61,0.71,1.21),\n",
    "    (0.7,0.85,1.4),\n",
    "    (0.89,1.09,1.69),\n",
    "    (1.18,1.43,2.08))\n",
    "\n",
    "def C_3(Seismicity_Level, Performance_Objective):\n",
    "    \"\"\"\"\"\"\n",
    "    i = Seismicity_Levels.index(Seismicity_Level)\n",
    "    j = Performance_Objectives.index(Performance_Objective)\n",
    "    return C3_Table[i][j]\n",
    "\n",
    "\n",
    "# Test \n",
    "print(Seismicity_Levels)\n",
    "print(C_3(\"Moderate\", \"Life Safety\"))  # 0.70\n",
    "print(C_3(\"Moderate\", \"Immediate Occupancy\"))  # 1.40\n",
    "print(C_3(\"Low\", \"Damage Control\"))  # 0.71"
   ]
  },
  {
   "cell_type": "markdown",
   "metadata": {},
   "source": [
    "## Time Adjustment Factor Tables"
   ]
  },
  {
   "cell_type": "code",
   "execution_count": 38,
   "metadata": {},
   "outputs": [
    {
     "name": "stdout",
     "output_type": "stream",
     "text": [
      "1.22\n"
     ]
    }
   ],
   "source": [
    "# Time Adjustment Factor\n",
    "Inflation_Rates = (0, 0.02, 0.04, 0.06, 0.08)\n",
    "\n",
    "C_T_Table = (\n",
    "(1,1,1,1,1),\n",
    "(1,1.02,1.04,1.06,1.08),\n",
    "(1,1.04,1.08,1.12,1.17),\n",
    "(1,1.06,1.12,1.19,1.26),\n",
    "(1,1.08,1.17,1.26,1.36),\n",
    "(1,1.1,1.22,1.34,1.47),\n",
    "(1,1.13,1.27,1.42,1.59),\n",
    "(1,1.15,1.32,1.5,1.71),\n",
    "(1,1.17,1.37,1.59,1.82),\n",
    "(1,1.2,1.42,1.69,2),\n",
    "(1,1.22,1.48,1.79,2.16),\n",
    "(1,1.24,1.54,1.9,2.33))\n",
    "\n",
    "\n",
    "def C_T(Years_Ahead, Inflation_Rate):\n",
    "    i = Years_Ahead\n",
    "    j = Inflation_Rates.index(Inflation_Rate)\n",
    "    return C_T_Table[i][j]\n",
    "\n",
    "# Test\n",
    "print(C_T(5,0.04)) # 1.22"
   ]
  },
  {
   "cell_type": "markdown",
   "metadata": {},
   "source": [
    "## Confidence Limits"
   ]
  },
  {
   "cell_type": "code",
   "execution_count": 39,
   "metadata": {},
   "outputs": [
    {
     "name": "stdout",
     "output_type": "stream",
     "text": [
      "0.67\n",
      "1.46\n"
     ]
    }
   ],
   "source": [
    "# Confidence Limits 50%, 75%, 90% for Building Number Categories\n",
    "\n",
    "Building_Number_Categories = (1, 2, 5, 10, 50, 100, 500, 1000)\n",
    "Confidence_Limits = (\"50%\", \"75%\", \"90%\")\n",
    "\n",
    "C_CRL_Table = (\n",
    "    (0.4,0.27,0.18),\n",
    "    (0.67,0.51,0.38),\n",
    "    (0.78,0.65,0.54),\n",
    "    (0.84,0.73,0.64),\n",
    "    (0.92,0.87,0.82),\n",
    "    (0.95,0.9,0.87),\n",
    "    (0.96,0.96,0.94),\n",
    "    (0.98,0.97,0.96))\n",
    "\n",
    "C_CRU_Table = (\n",
    "    (2.48,3.69,5.57),\n",
    "    (1.46,1.97,2.63),\n",
    "    (1.29,1.53,1.84),\n",
    "    (1.19,1.35,1.54),\n",
    "    (1.04,1.15,1.21),\n",
    "    (1.06,1.1,1.15),\n",
    "    (1.03,1.04,1.06),\n",
    "    (1.02,1.03,1.04))\n",
    "\n",
    "def Confidence_Limits_Factor(Upper_Lower, Building_Number_Category, Confidence_Limit):\n",
    "    \"\"\" Three inputs chosen from the following lists\n",
    "    Upper_Lower - \"Upper\" or \"Lower\"\n",
    "    Building_Number_Categories = (1, 2, 5, 10, 50, 100, 500, 1000)\n",
    "    Confidence_Limits = (\"50%\", \"75%\", \"90%\")\n",
    "    \"\"\"\n",
    "    i = Building_Number_Categories.index(Building_Number_Category)\n",
    "    j = Confidence_Limits.index(Confidence_Limit)\n",
    "\n",
    "    if Upper_Lower == \"Upper\":\n",
    "        return C_CRU_Table[i][j]\n",
    "    elif Upper_Lower == \"Lower\":\n",
    "        return C_CRL_Table[i][j]\n",
    "\n",
    "# Test\n",
    "print(Confidence_Limits_Factor(\"Lower\",2,\"50%\")) # 0.67\n",
    "print(Confidence_Limits_Factor(\"Upper\",2,\"50%\")) # 1.49"
   ]
  },
  {
   "cell_type": "markdown",
   "metadata": {},
   "source": [
    "# Calculations"
   ]
  },
  {
   "cell_type": "markdown",
   "metadata": {},
   "source": [
    "## Group Mean Cost (Baseline)"
   ]
  },
  {
   "cell_type": "code",
   "execution_count": 42,
   "metadata": {},
   "outputs": [
    {
     "name": "stdout",
     "output_type": "stream",
     "text": [
      "Building Type is: C3 :  Concrete Frame with Infill Walls\n",
      "Group_Mean_Cost 8.56 US$/sf\n"
     ]
    }
   ],
   "source": [
    "# Table 4.3.2\n",
    "\n",
    "Building_Class = URM\n",
    "Seismic_Hazard = \"Moderate\"\n",
    "Building_Area = \"Very Large\"\n",
    "print(\"Building Type is:\", C3.Name, \": \", C3.Description)\n",
    "Group_Mean_Cost = C_1(Building_Class, Seismic_Hazard, Building_Area)\n",
    "print(\"Group_Mean_Cost\", Group_Mean_Cost, \"US$/sf\")"
   ]
  },
  {
   "cell_type": "markdown",
   "metadata": {},
   "source": [
    "## Area Adjustment Factor"
   ]
  },
  {
   "cell_type": "code",
   "execution_count": 48,
   "metadata": {},
   "outputs": [
    {
     "name": "stdout",
     "output_type": "stream",
     "text": [
      "Floor Area: 100,000 square feet\n",
      "Area Category: \"Very Large\"\n",
      "Area_Adjustment_Factor: 0.84\n"
     ]
    }
   ],
   "source": [
    "\n",
    "# Building Size Table 4.3.3\n",
    "# Building Type = C3\n",
    "Building_Group = C3.Building_Group\n",
    "Floor_Area = 100000  # Square Feet\n",
    "print(\"Floor Area: {:,} square feet\".format(Floor_Area))\n",
    "Area_Category = Size_Category(Floor_Area)\n",
    "print('Area Category: \"{}\"'.format(Area_Category))\n",
    "\n",
    "Area_Adjustment_Factor = C_2(Building_Group, Area_Category) # C2\n",
    "print(\"Area_Adjustment_Factor:\", Area_Adjustment_Factor)"
   ]
  },
  {
   "cell_type": "markdown",
   "metadata": {},
   "source": [
    "## Seismic Risk Factor"
   ]
  },
  {
   "cell_type": "code",
   "execution_count": 49,
   "metadata": {},
   "outputs": [
    {
     "name": "stdout",
     "output_type": "stream",
     "text": [
      "Seismic_Risk_Factor 1.4\n"
     ]
    }
   ],
   "source": [
    "# Seismic Risk Factor\n",
    "Performance_Objective = \"Immediate Occupancy\"\n",
    "Seismic_Risk_Factor = C_3(Seismic_Hazard, Performance_Objective)\n",
    "\n",
    "print(\"Seismic_Risk_Factor\", Seismic_Risk_Factor)"
   ]
  },
  {
   "cell_type": "markdown",
   "metadata": {},
   "source": [
    "## Location Adjustment Factor"
   ]
  },
  {
   "cell_type": "code",
   "execution_count": 50,
   "metadata": {},
   "outputs": [
    {
     "name": "stdout",
     "output_type": "stream",
     "text": [
      "Location_Adjustment_Factor 1.07\n"
     ]
    }
   ],
   "source": [
    "# Building Location Table 4.3.4 or 4.3.5\n",
    "Location_Adjustment_Factor = 1.07 # C_L (for New York)\n",
    "\n",
    "print(\"Location_Adjustment_Factor (C_L):\", Location_Adjustment_Factor)"
   ]
  },
  {
   "cell_type": "markdown",
   "metadata": {},
   "source": [
    "## Construction Start Date Factor"
   ]
  },
  {
   "cell_type": "code",
   "execution_count": 51,
   "metadata": {},
   "outputs": [
    {
     "name": "stdout",
     "output_type": "stream",
     "text": [
      "Time_Adjustment_Factor: 1.1\n"
     ]
    }
   ],
   "source": [
    "# Construction Start Date  Table 4.3.6\n",
    "Years_to_Retrofit = 5\n",
    "#Time_Adjustment_Factor = 4 # CT\n",
    "Inflation_Rate = 0.02\n",
    "Time_Adjustment_Factor = C_T(Years_to_Retrofit,Inflation_Rate)\n",
    "\n",
    "print(\"Time_Adjustment_Factor:\", Time_Adjustment_Factor)"
   ]
  },
  {
   "cell_type": "markdown",
   "metadata": {},
   "source": [
    "## Building Inventory Size "
   ]
  },
  {
   "cell_type": "code",
   "execution_count": 52,
   "metadata": {},
   "outputs": [
    {
     "name": "stdout",
     "output_type": "stream",
     "text": [
      "Confidence_Range: 0.4 to 2.48\n"
     ]
    }
   ],
   "source": [
    "# Building Inventory Size Table 4.3.7\n",
    "Buildings_Number = 1\n",
    "Confidence_Level = \"50%\"\n",
    "Confidence_Range_Lower = Confidence_Limits_Factor(\"Lower\", Buildings_Number, \"50%\") # C_CRL\n",
    "Confidence_Range_Upper = Confidence_Limits_Factor(\"Upper\", Buildings_Number, \"50%\") # C_CRU\n",
    "\n",
    "print(\"Confidence_Range:\", Confidence_Range_Lower, \"to\", Confidence_Range_Upper)"
   ]
  },
  {
   "cell_type": "markdown",
   "metadata": {},
   "source": [
    "# Cost Summary"
   ]
  },
  {
   "cell_type": "code",
   "execution_count": 57,
   "metadata": {},
   "outputs": [
    {
     "name": "stdout",
     "output_type": "stream",
     "text": [
      "Lower Bound Cost: US$ 4.74 / sf\n",
      "Mean Cost: US$ 11.85 / sf\n",
      "Upper Bound Cost: US$ 29.38 / sf\n"
     ]
    }
   ],
   "source": [
    "# Typical_Structural_Cost = C1 * C2 * C3 * C_L * C_T\n",
    "Typical_Structural_Cost = (Group_Mean_Cost * Area_Adjustment_Factor * Seismic_Risk_Factor * \n",
    "                           Location_Adjustment_Factor * Time_Adjustment_Factor)\n",
    "\n",
    "\n",
    "Lower_Bound_Cost = Confidence_Range_Lower * Typical_Structural_Cost\n",
    "Mean_Cost = Typical_Structural_Cost\n",
    "Upper_Bound_Cost = Confidence_Range_Upper * Typical_Structural_Cost\n",
    "\n",
    "print(\"Lower Bound Cost: US$ {:.2f} / sf\".format(Lower_Bound_Cost))\n",
    "print(\"Mean Cost: US$ {:.2f} / sf\".format(Mean_Cost))\n",
    "print(\"Upper Bound Cost: US$ {:.2f} / sf\".format(Upper_Bound_Cost))"
   ]
  },
  {
   "cell_type": "code",
   "execution_count": 58,
   "metadata": {
    "collapsed": true,
    "jupyter": {
     "outputs_hidden": true
    }
   },
   "outputs": [],
   "source": [
    "# Turner Construction Cost Index\n",
    "# http://www.turnerconstruction.com/cost-index\n",
    "# https://www.rsmeansonline.com/References/CCI/3-Historical%20Cost%20Indexes/1-Historical%20Cost%20Indexes.PDF\n",
    "cols = (\"Year\", \"Average\", \"Index\")\n",
    "Turner_Index = (\n",
    "    (2017,1038,5.0),\n",
    "    (2016,989,4.7),\n",
    "    (2015,943,4.5),\n",
    "    (2014,902,4.4),\n",
    "    (2013,864,4.1),\n",
    "    (2012,830,2.1),\n",
    "    (2011,812,1.6),\n",
    "    (2010,799,-4.0),\n",
    "    (2009,832,-8.4),\n",
    "    (2008,908,6.3),\n",
    "    (2007,854,7.7),\n",
    "    (2006,793,10.6),\n",
    "    (2005,717,9.5),\n",
    "    (2004,655,5.4),\n",
    "    (2003,621,0.3),\n",
    "    (2002,619,1.0),\n",
    "    (2001,613,3.0),\n",
    "    (2000,595,4.4),\n",
    "    (1999,570,3.8),\n",
    "    (1998,549,4.6),\n",
    "    (1997,525,4.0),\n",
    "    (1996,505,2.6))"
   ]
  },
  {
   "cell_type": "code",
   "execution_count": 80,
   "metadata": {},
   "outputs": [
    {
     "data": {
      "text/plain": [
       "[(1996, 505, 2.6),\n",
       " (1997, 525, 4.0),\n",
       " (1998, 549, 4.6),\n",
       " (1999, 570, 3.8),\n",
       " (2000, 595, 4.4),\n",
       " (2001, 613, 3.0),\n",
       " (2002, 619, 1.0),\n",
       " (2003, 621, 0.3),\n",
       " (2004, 655, 5.4),\n",
       " (2005, 717, 9.5),\n",
       " (2006, 793, 10.6),\n",
       " (2007, 854, 7.7),\n",
       " (2008, 908, 6.3),\n",
       " (2009, 832, -8.4),\n",
       " (2010, 799, -4.0),\n",
       " (2011, 812, 1.6),\n",
       " (2012, 830, 2.1),\n",
       " (2013, 864, 4.1),\n",
       " (2014, 902, 4.4),\n",
       " (2015, 943, 4.5),\n",
       " (2016, 989, 4.7),\n",
       " (2017, 1038, 5.0)]"
      ]
     },
     "execution_count": 80,
     "metadata": {},
     "output_type": "execute_result"
    }
   ],
   "source": [
    "from operator import itemgetter\n",
    "sdata = sorted(Turner_Index,key=itemgetter(0))\n",
    "sdata"
   ]
  },
  {
   "cell_type": "code",
   "execution_count": 69,
   "metadata": {},
   "outputs": [
    {
     "data": {
      "text/plain": [
       "[((1996, 505, 2.6), 505),\n",
       " ((1997, 525, 4.0), 525.2),\n",
       " ((1998, 549, 4.6), 549.3592000000001),\n",
       " ((1999, 570, 3.8), 570.2348496000001),\n",
       " ((2000, 595, 4.4), 595.3251829824001),\n",
       " ((2001, 613, 3.0), 613.1849384718721),\n",
       " ((2002, 619, 1.0), 619.3167878565908),\n",
       " ((2003, 621, 0.3), 621.1747382201605),\n",
       " ((2004, 655, 5.4), 654.7181740840492),\n",
       " ((2005, 717, 9.5), 716.9164006220338),\n",
       " ((2006, 793, 10.6), 792.9095390879695),\n",
       " ((2007, 854, 7.7), 853.9635735977431),\n",
       " ((2008, 908, 6.3), 907.7632787344008),\n",
       " ((2009, 832, -8.4), 831.5111633207111),\n",
       " ((2010, 799, -4.0), 798.2507167878827),\n",
       " ((2011, 812, 1.6), 811.0227282564888),\n",
       " ((2012, 830, 2.1), 828.054205549875),\n",
       " ((2013, 864, 4.1), 862.0044279774197),\n",
       " ((2014, 902, 4.4), 899.9326228084262),\n",
       " ((2015, 943, 4.5), 940.4295908348054),\n",
       " ((2016, 989, 4.7), 984.6297816040411),\n",
       " ((2017, 1038, 5.0), 1033.8612706842432)]"
      ]
     },
     "execution_count": 69,
     "metadata": {},
     "output_type": "execute_result"
    }
   ],
   "source": [
    "theindex = sdata[0][1]\n",
    "indxlist = [theindex]\n",
    "for year, indx, delta in sdata[1:]:\n",
    "    theindex *= (1 + delta / 100)\n",
    "    indxlist.append(theindex)\n",
    "list(zip(sdata,indxlist))"
   ]
  },
  {
   "cell_type": "code",
   "execution_count": 74,
   "metadata": {},
   "outputs": [],
   "source": [
    "from bs4 import BeautifulSoup\n",
    "import csv\n",
    "#from urllib import urlopen\n",
    "from urllib.request import urlopen"
   ]
  },
  {
   "cell_type": "code",
   "execution_count": null,
   "metadata": {
    "collapsed": true,
    "jupyter": {
     "outputs_hidden": true
    }
   },
   "outputs": [],
   "source": [
    "soup = BeautifulSoup(urlopen(http://www.hsr.ca.gov/docs/about/business_plans/BPlan_2012LibraryCh3_2010Qtrly_Rpt.pdf))"
   ]
  },
  {
   "cell_type": "code",
   "execution_count": 78,
   "metadata": {},
   "outputs": [],
   "source": [
    "#YEAR,AVG.\n",
    "ENR_Index_Raw = (\n",
    "    (2010,8802),\n",
    "    (2009,8570),\n",
    "    (2008,8310),\n",
    "    (2007,7966),\n",
    "    (2006,7751),\n",
    "    (2005,7446),\n",
    "    (2004,7115),\n",
    "    (2003,6694),\n",
    "    (2002,6538),\n",
    "    (2001,6343),\n",
    "    (2000,6221),\n",
    "    (1999,6059),\n",
    "    (1998,5920),\n",
    "    (1997,5826),\n",
    "    (1996,5620),\n",
    "    (1995,5471),\n",
    "    (1994,5408),\n",
    "    (1993,5210),\n",
    "    (1992,4985),\n",
    "    (1991,4835),\n",
    "    (1990,4732),\n",
    "    (1989,4615),\n",
    "    (1985,4195),\n",
    "    (1981,3535),\n",
    "    (1977,2576),\n",
    "    (1973,1895),\n",
    "    (1969,1269),\n",
    "    (1965,971),\n",
    "    (1961,847),\n",
    "    (1957,724),\n",
    "    (1953,600),\n",
    "    (1949,477),\n",
    "    (1945,308),\n",
    "    (1941,258),\n",
    "    (1937,235),\n",
    "    (1933,170),\n",
    "    (1929,207),\n",
    "    (1925,207),\n",
    "    (1921,202),\n",
    "    (1917,181),\n",
    "    (1913,100),\n",
    "    (1909,91),\n",
    "    (1988,4519),\n",
    "    (1984,4146),\n",
    "    (1980,3237),\n",
    "    (1976,2401),\n",
    "    (1972,1753),\n",
    "    (1968,1155),\n",
    "    (1964,936),\n",
    "    (1960,824),\n",
    "    (1956,692),\n",
    "    (1952,569),\n",
    "    (1948,461),\n",
    "    (1944,299),\n",
    "    (1940,242),\n",
    "    (1936,206),\n",
    "    (1932,157),\n",
    "    (1928,207),\n",
    "    (1924,215),\n",
    "    (1920,251),\n",
    "    (1916,130),\n",
    "    (1912,91),\n",
    "    (1908,97),\n",
    "    (1987,4406),\n",
    "    (1983,4066),\n",
    "    (1979,3003),\n",
    "    (1975,2212),\n",
    "    (1971,1581),\n",
    "    (1967,1074),\n",
    "    (1963,901),\n",
    "    (1959,797),\n",
    "    (1955,660),\n",
    "    (1951,543),\n",
    "    (1947,413),\n",
    "    (1943,290),\n",
    "    (1939,236),\n",
    "    (1935,196),\n",
    "    (1931,181),\n",
    "    (1927,206),\n",
    "    (1923,214),\n",
    "    (1919,198),\n",
    "    (1915,93),\n",
    "    (1911,93),\n",
    "    (1986,4295),\n",
    "    (1982,3825),\n",
    "    (1978,2776),\n",
    "    (1974,2020),\n",
    "    (1970,1381),\n",
    "    (1966,1019),\n",
    "    (1962,872),\n",
    "    (1958,759),\n",
    "    (1954,628),\n",
    "    (1950,510),\n",
    "    (1946,346),\n",
    "    (1942,276),\n",
    "    (1938,236),\n",
    "    (1934,198),\n",
    "    (1930,203),\n",
    "    (1926,208),\n",
    "    (1922,174),\n",
    "    (1918,189),\n",
    "    (1914,89),\n",
    "    (1910,96))"
   ]
  },
  {
   "cell_type": "code",
   "execution_count": 79,
   "metadata": {},
   "outputs": [
    {
     "data": {
      "text/plain": [
       "[(1908, 97),\n",
       " (1909, 91),\n",
       " (1910, 96),\n",
       " (1911, 93),\n",
       " (1912, 91),\n",
       " (1913, 100),\n",
       " (1914, 89),\n",
       " (1915, 93),\n",
       " (1916, 130),\n",
       " (1917, 181),\n",
       " (1918, 189),\n",
       " (1919, 198),\n",
       " (1920, 251),\n",
       " (1921, 202),\n",
       " (1922, 174),\n",
       " (1923, 214),\n",
       " (1924, 215),\n",
       " (1925, 207),\n",
       " (1926, 208),\n",
       " (1927, 206),\n",
       " (1928, 207),\n",
       " (1929, 207),\n",
       " (1930, 203),\n",
       " (1931, 181),\n",
       " (1932, 157),\n",
       " (1933, 170),\n",
       " (1934, 198),\n",
       " (1935, 196),\n",
       " (1936, 206),\n",
       " (1937, 235),\n",
       " (1938, 236),\n",
       " (1939, 236),\n",
       " (1940, 242),\n",
       " (1941, 258),\n",
       " (1942, 276),\n",
       " (1943, 290),\n",
       " (1944, 299),\n",
       " (1945, 308),\n",
       " (1946, 346),\n",
       " (1947, 413),\n",
       " (1948, 461),\n",
       " (1949, 477),\n",
       " (1950, 510),\n",
       " (1951, 543),\n",
       " (1952, 569),\n",
       " (1953, 600),\n",
       " (1954, 628),\n",
       " (1955, 660),\n",
       " (1956, 692),\n",
       " (1957, 724),\n",
       " (1958, 759),\n",
       " (1959, 797),\n",
       " (1960, 824),\n",
       " (1961, 847),\n",
       " (1962, 872),\n",
       " (1963, 901),\n",
       " (1964, 936),\n",
       " (1965, 971),\n",
       " (1966, 1019),\n",
       " (1967, 1074),\n",
       " (1968, 1155),\n",
       " (1969, 1269),\n",
       " (1970, 1381),\n",
       " (1971, 1581),\n",
       " (1972, 1753),\n",
       " (1973, 1895),\n",
       " (1974, 2020),\n",
       " (1975, 2212),\n",
       " (1976, 2401),\n",
       " (1977, 2576),\n",
       " (1978, 2776),\n",
       " (1979, 3003),\n",
       " (1980, 3237),\n",
       " (1981, 3535),\n",
       " (1982, 3825),\n",
       " (1983, 4066),\n",
       " (1984, 4146),\n",
       " (1985, 4195),\n",
       " (1986, 4295),\n",
       " (1987, 4406),\n",
       " (1988, 4519),\n",
       " (1989, 4615),\n",
       " (1990, 4732),\n",
       " (1991, 4835),\n",
       " (1992, 4985),\n",
       " (1993, 5210),\n",
       " (1994, 5408),\n",
       " (1995, 5471),\n",
       " (1996, 5620),\n",
       " (1997, 5826),\n",
       " (1998, 5920),\n",
       " (1999, 6059),\n",
       " (2000, 6221),\n",
       " (2001, 6343),\n",
       " (2002, 6538),\n",
       " (2003, 6694),\n",
       " (2004, 7115),\n",
       " (2005, 7446),\n",
       " (2006, 7751),\n",
       " (2007, 7966),\n",
       " (2008, 8310),\n",
       " (2009, 8570),\n",
       " (2010, 8802)]"
      ]
     },
     "execution_count": 79,
     "metadata": {},
     "output_type": "execute_result"
    }
   ],
   "source": [
    "ENR_Index = sorted(ENR_Index_Raw)\n",
    "ENR_Index"
   ]
  },
  {
   "cell_type": "code",
   "execution_count": null,
   "metadata": {
    "collapsed": true,
    "jupyter": {
     "outputs_hidden": true
    }
   },
   "outputs": [],
   "source": []
  }
 ],
 "metadata": {
  "kernelspec": {
   "display_name": "Python (py36)",
   "language": "python",
   "name": "py36"
  },
  "language_info": {
   "codemirror_mode": {
    "name": "ipython",
    "version": 3
   },
   "file_extension": ".py",
   "mimetype": "text/x-python",
   "name": "python",
   "nbconvert_exporter": "python",
   "pygments_lexer": "ipython3",
   "version": "3.6.9"
  }
 },
 "nbformat": 4,
 "nbformat_minor": 4
}
